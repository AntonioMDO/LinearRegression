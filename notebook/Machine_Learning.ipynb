{
 "cells": [
  {
   "cell_type": "markdown",
   "metadata": {},
   "source": [
    "# <a id='toc1_'></a>[**Machine Learning**](#toc0_)"
   ]
  },
  {
   "cell_type": "markdown",
   "metadata": {},
   "source": [
    "**Tabla de contenido**<a id='toc0_'></a>    \n",
    "- [**Machine Learning**](#toc1_)    \n",
    "  - [**Introducción**](#toc1_1_)    \n",
    "  - [**Cargar y Visualizar los datos**](#toc1_2_)    \n",
    "    - [**Región 0**](#toc1_2_1_)    \n",
    "    - [**Región 1**](#toc1_2_2_)    \n",
    "    - [**Región 2**](#toc1_2_3_)    \n",
    "  - [**Preprocesamiento**](#toc1_3_)    \n",
    "  - [**Modelado con Regresión Lineal**](#toc1_4_)    \n",
    "  - [**Volumen de reservas**](#toc1_5_)    \n",
    "  - [**Evaluación de los pozos**](#toc1_6_)    \n",
    "  - [**Calculo de ganancias**](#toc1_7_)    \n",
    "    - [**Bootstrapping**](#toc1_7_1_)    \n",
    "  - [**Conclusiones:**](#toc1_8_)    "
   ]
  },
  {
   "cell_type": "markdown",
   "metadata": {},
   "source": [
    "## <a id='toc1_1_'></a>[**Introducción**](#toc0_)"
   ]
  },
  {
   "cell_type": "markdown",
   "metadata": {},
   "source": [
    "**Objetivo:** encontrar los mejores lugares donde abrir 200 pozos nuevos de petróleo.\n",
    "\n",
    "**Plan de trabajo**\n",
    "- Crear un modelo para predecir el volumen de reservas en pozos nuevos.\n",
    "- Elegir los pozos petrolíferos que tienen los valores estimados más altos.\n",
    "- Elegir la región con el beneficio total más alto para los pozos petrolíferos seleccionados.\n",
    "\n",
    "Al momento de seleccionar la región, se debe tomar en cuenta el beneficio y el riesgo que conlleva cada una.\n",
    "\n",
    "**Condiciones**\n",
    "- Al explorar la región, se lleva a cabo un estudio de 500 puntos con la selección de los mejores 200 puntos para el cálculo del beneficio.\n",
    "- El presupuesto para el desarrollo de 200 pozos petroleros es de 100 millones de dólares.\n",
    "- Un barril de materias primas genera 4.5 USD de ingresos. El ingreso de una unidad de producto es de 4500 dólares (el volumen de reservas está expresado en miles de barriles).\n",
    "- Después de la evaluación de riesgo, mantén solo las regiones con riesgo de pérdidas inferior al 2.5%. De las que se ajustan a los criterios, se debe seleccionar la región con el beneficio promedio más alto.\n"
   ]
  },
  {
   "cell_type": "markdown",
   "metadata": {},
   "source": [
    "## <a id='toc1_2_'></a>[**Cargar y Visualizar los datos**](#toc0_)"
   ]
  },
  {
   "cell_type": "code",
   "execution_count": 1,
   "metadata": {},
   "outputs": [],
   "source": [
    "#Importar librerías\n",
    "import pandas as pd\n",
    "import numpy as np\n",
    "import matplotlib.pyplot as plt\n",
    "import seaborn as sns\n",
    "from sklearn.linear_model import LinearRegression\n",
    "from sklearn.preprocessing import StandardScaler\n",
    "from sklearn.model_selection import train_test_split\n",
    "from sklearn.metrics import mean_squared_error"
   ]
  },
  {
   "cell_type": "code",
   "execution_count": 2,
   "metadata": {},
   "outputs": [],
   "source": [
    "# Cargar y visualizar los datos\n",
    "data = dict()\n",
    "\n",
    "def view_the_data(region_number):\n",
    "    \n",
    "    '''\n",
    "    La función hará lo siguiente por cada región:\n",
    "    - Lectura de los datos\n",
    "    - Primer contacto con los datos (describe, head,info)\n",
    "    - Revisión de duplicados\n",
    "    - Histogramas\n",
    "    '''\n",
    "    \n",
    "    try:\n",
    "        data[region_number] = pd.read_csv(f'../data/geo_data_{region_number}.csv')\n",
    "        \n",
    "        print('Describe:')\n",
    "        display(data[region_number].describe())\n",
    "        \n",
    "        print('Dataframe:')\n",
    "        display(data[region_number].head())\n",
    "        \n",
    "        print('Info:')\n",
    "        data[region_number].info()\n",
    "        \n",
    "        print('\\nDuplicates:')\n",
    "        print(data[region_number].duplicated().sum())\n",
    "        \n",
    "        print('\\nRegion', region_number, 'graphics:')\n",
    "        data[region_number].hist(bins = 100, figsize = (15,8),)\n",
    "        plt.show()\n",
    "        \n",
    "    except:\n",
    "        data[region_number] = pd.read_csv(f'/datasets/geo_data_{region_number}.csv')\n",
    "        \n",
    "        print('Describe:')\n",
    "        display(data[region_number].describe())\n",
    "        \n",
    "        print('Dataframe:')\n",
    "        display(data[region_number].head())\n",
    "        \n",
    "        print('Info:')\n",
    "        data[region_number].info()\n",
    "        \n",
    "        print('\\nDuplicates:')\n",
    "        print(data[region_number].duplicated().sum())\n",
    "        \n",
    "        print('\\nRegion', region_number, 'graphics:')\n",
    "        data[region_number].hist(bins = 100, figsize = (15,8),)\n",
    "        plt.show()"
   ]
  },
  {
   "cell_type": "markdown",
   "metadata": {},
   "source": [
    "### <a id='toc1_2_1_'></a>[**Región 0**](#toc0_)"
   ]
  },
  {
   "cell_type": "code",
   "execution_count": 3,
   "metadata": {},
   "outputs": [
    {
     "name": "stdout",
     "output_type": "stream",
     "text": [
      "Describe:\n"
     ]
    },
    {
     "data": {
      "text/html": [
       "<div>\n",
       "<style scoped>\n",
       "    .dataframe tbody tr th:only-of-type {\n",
       "        vertical-align: middle;\n",
       "    }\n",
       "\n",
       "    .dataframe tbody tr th {\n",
       "        vertical-align: top;\n",
       "    }\n",
       "\n",
       "    .dataframe thead th {\n",
       "        text-align: right;\n",
       "    }\n",
       "</style>\n",
       "<table border=\"1\" class=\"dataframe\">\n",
       "  <thead>\n",
       "    <tr style=\"text-align: right;\">\n",
       "      <th></th>\n",
       "      <th>f0</th>\n",
       "      <th>f1</th>\n",
       "      <th>f2</th>\n",
       "      <th>product</th>\n",
       "    </tr>\n",
       "  </thead>\n",
       "  <tbody>\n",
       "    <tr>\n",
       "      <th>count</th>\n",
       "      <td>100000.000000</td>\n",
       "      <td>100000.000000</td>\n",
       "      <td>100000.000000</td>\n",
       "      <td>100000.000000</td>\n",
       "    </tr>\n",
       "    <tr>\n",
       "      <th>mean</th>\n",
       "      <td>0.500419</td>\n",
       "      <td>0.250143</td>\n",
       "      <td>2.502647</td>\n",
       "      <td>92.500000</td>\n",
       "    </tr>\n",
       "    <tr>\n",
       "      <th>std</th>\n",
       "      <td>0.871832</td>\n",
       "      <td>0.504433</td>\n",
       "      <td>3.248248</td>\n",
       "      <td>44.288691</td>\n",
       "    </tr>\n",
       "    <tr>\n",
       "      <th>min</th>\n",
       "      <td>-1.408605</td>\n",
       "      <td>-0.848218</td>\n",
       "      <td>-12.088328</td>\n",
       "      <td>0.000000</td>\n",
       "    </tr>\n",
       "    <tr>\n",
       "      <th>25%</th>\n",
       "      <td>-0.072580</td>\n",
       "      <td>-0.200881</td>\n",
       "      <td>0.287748</td>\n",
       "      <td>56.497507</td>\n",
       "    </tr>\n",
       "    <tr>\n",
       "      <th>50%</th>\n",
       "      <td>0.502360</td>\n",
       "      <td>0.250252</td>\n",
       "      <td>2.515969</td>\n",
       "      <td>91.849972</td>\n",
       "    </tr>\n",
       "    <tr>\n",
       "      <th>75%</th>\n",
       "      <td>1.073581</td>\n",
       "      <td>0.700646</td>\n",
       "      <td>4.715088</td>\n",
       "      <td>128.564089</td>\n",
       "    </tr>\n",
       "    <tr>\n",
       "      <th>max</th>\n",
       "      <td>2.362331</td>\n",
       "      <td>1.343769</td>\n",
       "      <td>16.003790</td>\n",
       "      <td>185.364347</td>\n",
       "    </tr>\n",
       "  </tbody>\n",
       "</table>\n",
       "</div>"
      ],
      "text/plain": [
       "                  f0             f1             f2        product\n",
       "count  100000.000000  100000.000000  100000.000000  100000.000000\n",
       "mean        0.500419       0.250143       2.502647      92.500000\n",
       "std         0.871832       0.504433       3.248248      44.288691\n",
       "min        -1.408605      -0.848218     -12.088328       0.000000\n",
       "25%        -0.072580      -0.200881       0.287748      56.497507\n",
       "50%         0.502360       0.250252       2.515969      91.849972\n",
       "75%         1.073581       0.700646       4.715088     128.564089\n",
       "max         2.362331       1.343769      16.003790     185.364347"
      ]
     },
     "metadata": {},
     "output_type": "display_data"
    },
    {
     "name": "stdout",
     "output_type": "stream",
     "text": [
      "Dataframe:\n"
     ]
    },
    {
     "data": {
      "text/html": [
       "<div>\n",
       "<style scoped>\n",
       "    .dataframe tbody tr th:only-of-type {\n",
       "        vertical-align: middle;\n",
       "    }\n",
       "\n",
       "    .dataframe tbody tr th {\n",
       "        vertical-align: top;\n",
       "    }\n",
       "\n",
       "    .dataframe thead th {\n",
       "        text-align: right;\n",
       "    }\n",
       "</style>\n",
       "<table border=\"1\" class=\"dataframe\">\n",
       "  <thead>\n",
       "    <tr style=\"text-align: right;\">\n",
       "      <th></th>\n",
       "      <th>id</th>\n",
       "      <th>f0</th>\n",
       "      <th>f1</th>\n",
       "      <th>f2</th>\n",
       "      <th>product</th>\n",
       "    </tr>\n",
       "  </thead>\n",
       "  <tbody>\n",
       "    <tr>\n",
       "      <th>0</th>\n",
       "      <td>txEyH</td>\n",
       "      <td>0.705745</td>\n",
       "      <td>-0.497823</td>\n",
       "      <td>1.221170</td>\n",
       "      <td>105.280062</td>\n",
       "    </tr>\n",
       "    <tr>\n",
       "      <th>1</th>\n",
       "      <td>2acmU</td>\n",
       "      <td>1.334711</td>\n",
       "      <td>-0.340164</td>\n",
       "      <td>4.365080</td>\n",
       "      <td>73.037750</td>\n",
       "    </tr>\n",
       "    <tr>\n",
       "      <th>2</th>\n",
       "      <td>409Wp</td>\n",
       "      <td>1.022732</td>\n",
       "      <td>0.151990</td>\n",
       "      <td>1.419926</td>\n",
       "      <td>85.265647</td>\n",
       "    </tr>\n",
       "    <tr>\n",
       "      <th>3</th>\n",
       "      <td>iJLyR</td>\n",
       "      <td>-0.032172</td>\n",
       "      <td>0.139033</td>\n",
       "      <td>2.978566</td>\n",
       "      <td>168.620776</td>\n",
       "    </tr>\n",
       "    <tr>\n",
       "      <th>4</th>\n",
       "      <td>Xdl7t</td>\n",
       "      <td>1.988431</td>\n",
       "      <td>0.155413</td>\n",
       "      <td>4.751769</td>\n",
       "      <td>154.036647</td>\n",
       "    </tr>\n",
       "  </tbody>\n",
       "</table>\n",
       "</div>"
      ],
      "text/plain": [
       "      id        f0        f1        f2     product\n",
       "0  txEyH  0.705745 -0.497823  1.221170  105.280062\n",
       "1  2acmU  1.334711 -0.340164  4.365080   73.037750\n",
       "2  409Wp  1.022732  0.151990  1.419926   85.265647\n",
       "3  iJLyR -0.032172  0.139033  2.978566  168.620776\n",
       "4  Xdl7t  1.988431  0.155413  4.751769  154.036647"
      ]
     },
     "metadata": {},
     "output_type": "display_data"
    },
    {
     "name": "stdout",
     "output_type": "stream",
     "text": [
      "Info:\n",
      "<class 'pandas.core.frame.DataFrame'>\n",
      "RangeIndex: 100000 entries, 0 to 99999\n",
      "Data columns (total 5 columns):\n",
      " #   Column   Non-Null Count   Dtype  \n",
      "---  ------   --------------   -----  \n",
      " 0   id       100000 non-null  object \n",
      " 1   f0       100000 non-null  float64\n",
      " 2   f1       100000 non-null  float64\n",
      " 3   f2       100000 non-null  float64\n",
      " 4   product  100000 non-null  float64\n",
      "dtypes: float64(4), object(1)\n",
      "memory usage: 3.8+ MB\n",
      "\n",
      "Duplicates:\n",
      "0\n",
      "\n",
      "Region 0 graphics:\n"
     ]
    },
    {
     "data": {
      "image/png": "[encoded data removed]",
      "text/plain": [
       "<Figure size 1500x800 with 4 Axes>"
      ]
     },
     "metadata": {},
     "output_type": "display_data"
    }
   ],
   "source": [
    "#Aplicación de la función en la región 0\n",
    "view_the_data(0)"
   ]
  },
  {
   "cell_type": "markdown",
   "metadata": {},
   "source": [
    "**Descripción de los datos**\n",
    "- `id` — identificador único de pozo de petróleo\n",
    "- `f0`, `f1`, `f2` — tres características significativas de los puntos.\n",
    "- `product` — volumen de reservas en el pozo de petróleo (miles de barriles)."
   ]
  },
  {
   "cell_type": "markdown",
   "metadata": {},
   "source": [
    "**Hallazgos de la región 0:**\n",
    "- No hay duplicados ni valores ausentes.\n",
    "- En los histogramas, solamente la columna `f2` tiene una distribución normal. Las demás columnas denotan estructuras muy particulares y similares a tener varios picos."
   ]
  },
  {
   "cell_type": "markdown",
   "metadata": {},
   "source": [
    "### <a id='toc1_2_2_'></a>[**Región 1**](#toc0_)"
   ]
  },
  {
   "cell_type": "code",
   "execution_count": 4,
   "metadata": {},
   "outputs": [
    {
     "name": "stdout",
     "output_type": "stream",
     "text": [
      "Describe:\n"
     ]
    },
    {
     "data": {
      "text/html": [
       "<div>\n",
       "<style scoped>\n",
       "    .dataframe tbody tr th:only-of-type {\n",
       "        vertical-align: middle;\n",
       "    }\n",
       "\n",
       "    .dataframe tbody tr th {\n",
       "        vertical-align: top;\n",
       "    }\n",
       "\n",
       "    .dataframe thead th {\n",
       "        text-align: right;\n",
       "    }\n",
       "</style>\n",
       "<table border=\"1\" class=\"dataframe\">\n",
       "  <thead>\n",
       "    <tr style=\"text-align: right;\">\n",
       "      <th></th>\n",
       "      <th>f0</th>\n",
       "      <th>f1</th>\n",
       "      <th>f2</th>\n",
       "      <th>product</th>\n",
       "    </tr>\n",
       "  </thead>\n",
       "  <tbody>\n",
       "    <tr>\n",
       "      <th>count</th>\n",
       "      <td>100000.000000</td>\n",
       "      <td>100000.000000</td>\n",
       "      <td>100000.000000</td>\n",
       "      <td>100000.000000</td>\n",
       "    </tr>\n",
       "    <tr>\n",
       "      <th>mean</th>\n",
       "      <td>1.141296</td>\n",
       "      <td>-4.796579</td>\n",
       "      <td>2.494541</td>\n",
       "      <td>68.825000</td>\n",
       "    </tr>\n",
       "    <tr>\n",
       "      <th>std</th>\n",
       "      <td>8.965932</td>\n",
       "      <td>5.119872</td>\n",
       "      <td>1.703572</td>\n",
       "      <td>45.944423</td>\n",
       "    </tr>\n",
       "    <tr>\n",
       "      <th>min</th>\n",
       "      <td>-31.609576</td>\n",
       "      <td>-26.358598</td>\n",
       "      <td>-0.018144</td>\n",
       "      <td>0.000000</td>\n",
       "    </tr>\n",
       "    <tr>\n",
       "      <th>25%</th>\n",
       "      <td>-6.298551</td>\n",
       "      <td>-8.267985</td>\n",
       "      <td>1.000021</td>\n",
       "      <td>26.953261</td>\n",
       "    </tr>\n",
       "    <tr>\n",
       "      <th>50%</th>\n",
       "      <td>1.153055</td>\n",
       "      <td>-4.813172</td>\n",
       "      <td>2.011479</td>\n",
       "      <td>57.085625</td>\n",
       "    </tr>\n",
       "    <tr>\n",
       "      <th>75%</th>\n",
       "      <td>8.621015</td>\n",
       "      <td>-1.332816</td>\n",
       "      <td>3.999904</td>\n",
       "      <td>107.813044</td>\n",
       "    </tr>\n",
       "    <tr>\n",
       "      <th>max</th>\n",
       "      <td>29.421755</td>\n",
       "      <td>18.734063</td>\n",
       "      <td>5.019721</td>\n",
       "      <td>137.945408</td>\n",
       "    </tr>\n",
       "  </tbody>\n",
       "</table>\n",
       "</div>"
      ],
      "text/plain": [
       "                  f0             f1             f2        product\n",
       "count  100000.000000  100000.000000  100000.000000  100000.000000\n",
       "mean        1.141296      -4.796579       2.494541      68.825000\n",
       "std         8.965932       5.119872       1.703572      45.944423\n",
       "min       -31.609576     -26.358598      -0.018144       0.000000\n",
       "25%        -6.298551      -8.267985       1.000021      26.953261\n",
       "50%         1.153055      -4.813172       2.011479      57.085625\n",
       "75%         8.621015      -1.332816       3.999904     107.813044\n",
       "max        29.421755      18.734063       5.019721     137.945408"
      ]
     },
     "metadata": {},
     "output_type": "display_data"
    },
    {
     "name": "stdout",
     "output_type": "stream",
     "text": [
      "Dataframe:\n"
     ]
    },
    {
     "data": {
      "text/html": [
       "<div>\n",
       "<style scoped>\n",
       "    .dataframe tbody tr th:only-of-type {\n",
       "        vertical-align: middle;\n",
       "    }\n",
       "\n",
       "    .dataframe tbody tr th {\n",
       "        vertical-align: top;\n",
       "    }\n",
       "\n",
       "    .dataframe thead th {\n",
       "        text-align: right;\n",
       "    }\n",
       "</style>\n",
       "<table border=\"1\" class=\"dataframe\">\n",
       "  <thead>\n",
       "    <tr style=\"text-align: right;\">\n",
       "      <th></th>\n",
       "      <th>id</th>\n",
       "      <th>f0</th>\n",
       "      <th>f1</th>\n",
       "      <th>f2</th>\n",
       "      <th>product</th>\n",
       "    </tr>\n",
       "  </thead>\n",
       "  <tbody>\n",
       "    <tr>\n",
       "      <th>0</th>\n",
       "      <td>kBEdx</td>\n",
       "      <td>-15.001348</td>\n",
       "      <td>-8.276000</td>\n",
       "      <td>-0.005876</td>\n",
       "      <td>3.179103</td>\n",
       "    </tr>\n",
       "    <tr>\n",
       "      <th>1</th>\n",
       "      <td>62mP7</td>\n",
       "      <td>14.272088</td>\n",
       "      <td>-3.475083</td>\n",
       "      <td>0.999183</td>\n",
       "      <td>26.953261</td>\n",
       "    </tr>\n",
       "    <tr>\n",
       "      <th>2</th>\n",
       "      <td>vyE1P</td>\n",
       "      <td>6.263187</td>\n",
       "      <td>-5.948386</td>\n",
       "      <td>5.001160</td>\n",
       "      <td>134.766305</td>\n",
       "    </tr>\n",
       "    <tr>\n",
       "      <th>3</th>\n",
       "      <td>KcrkZ</td>\n",
       "      <td>-13.081196</td>\n",
       "      <td>-11.506057</td>\n",
       "      <td>4.999415</td>\n",
       "      <td>137.945408</td>\n",
       "    </tr>\n",
       "    <tr>\n",
       "      <th>4</th>\n",
       "      <td>AHL4O</td>\n",
       "      <td>12.702195</td>\n",
       "      <td>-8.147433</td>\n",
       "      <td>5.004363</td>\n",
       "      <td>134.766305</td>\n",
       "    </tr>\n",
       "  </tbody>\n",
       "</table>\n",
       "</div>"
      ],
      "text/plain": [
       "      id         f0         f1        f2     product\n",
       "0  kBEdx -15.001348  -8.276000 -0.005876    3.179103\n",
       "1  62mP7  14.272088  -3.475083  0.999183   26.953261\n",
       "2  vyE1P   6.263187  -5.948386  5.001160  134.766305\n",
       "3  KcrkZ -13.081196 -11.506057  4.999415  137.945408\n",
       "4  AHL4O  12.702195  -8.147433  5.004363  134.766305"
      ]
     },
     "metadata": {},
     "output_type": "display_data"
    },
    {
     "name": "stdout",
     "output_type": "stream",
     "text": [
      "Info:\n",
      "<class 'pandas.core.frame.DataFrame'>\n",
      "RangeIndex: 100000 entries, 0 to 99999\n",
      "Data columns (total 5 columns):\n",
      " #   Column   Non-Null Count   Dtype  \n",
      "---  ------   --------------   -----  \n",
      " 0   id       100000 non-null  object \n",
      " 1   f0       100000 non-null  float64\n",
      " 2   f1       100000 non-null  float64\n",
      " 3   f2       100000 non-null  float64\n",
      " 4   product  100000 non-null  float64\n",
      "dtypes: float64(4), object(1)\n",
      "memory usage: 3.8+ MB\n",
      "\n",
      "Duplicates:\n",
      "0\n",
      "\n",
      "Region 1 graphics:\n"
     ]
    },
    {
     "data": {
      "image/png": "[encoded data removed]",
      "text/plain": [
       "<Figure size 1500x800 with 4 Axes>"
      ]
     },
     "metadata": {},
     "output_type": "display_data"
    }
   ],
   "source": [
    "#Aplicación de la función en la región 1\n",
    "view_the_data(1)"
   ]
  },
  {
   "cell_type": "markdown",
   "metadata": {},
   "source": [
    "**Descripción de los datos**\n",
    "- `id` — identificador único de pozo de petróleo\n",
    "- `f0`, `f1`, `f2` — tres características significativas de los puntos.\n",
    "- `product` — volumen de reservas en el pozo de petróleo (miles de barriles)."
   ]
  },
  {
   "cell_type": "markdown",
   "metadata": {},
   "source": [
    "**Hallazgos de la región 1:**\n",
    "- No hay duplicados ni valores ausentes.\n",
    "- En los histogramas, solamente la columna `f0` tiene una distribución normal. La columna `f1` tiene una distribución de doble pico y las demás columnas denotan estructuras mucho más sectorizadas."
   ]
  },
  {
   "cell_type": "markdown",
   "metadata": {},
   "source": [
    "### <a id='toc1_2_3_'></a>[**Región 2**](#toc0_)"
   ]
  },
  {
   "cell_type": "code",
   "execution_count": 5,
   "metadata": {},
   "outputs": [
    {
     "name": "stdout",
     "output_type": "stream",
     "text": [
      "Describe:\n"
     ]
    },
    {
     "data": {
      "text/html": [
       "<div>\n",
       "<style scoped>\n",
       "    .dataframe tbody tr th:only-of-type {\n",
       "        vertical-align: middle;\n",
       "    }\n",
       "\n",
       "    .dataframe tbody tr th {\n",
       "        vertical-align: top;\n",
       "    }\n",
       "\n",
       "    .dataframe thead th {\n",
       "        text-align: right;\n",
       "    }\n",
       "</style>\n",
       "<table border=\"1\" class=\"dataframe\">\n",
       "  <thead>\n",
       "    <tr style=\"text-align: right;\">\n",
       "      <th></th>\n",
       "      <th>f0</th>\n",
       "      <th>f1</th>\n",
       "      <th>f2</th>\n",
       "      <th>product</th>\n",
       "    </tr>\n",
       "  </thead>\n",
       "  <tbody>\n",
       "    <tr>\n",
       "      <th>count</th>\n",
       "      <td>100000.000000</td>\n",
       "      <td>100000.000000</td>\n",
       "      <td>100000.000000</td>\n",
       "      <td>100000.000000</td>\n",
       "    </tr>\n",
       "    <tr>\n",
       "      <th>mean</th>\n",
       "      <td>0.002023</td>\n",
       "      <td>-0.002081</td>\n",
       "      <td>2.495128</td>\n",
       "      <td>95.000000</td>\n",
       "    </tr>\n",
       "    <tr>\n",
       "      <th>std</th>\n",
       "      <td>1.732045</td>\n",
       "      <td>1.730417</td>\n",
       "      <td>3.473445</td>\n",
       "      <td>44.749921</td>\n",
       "    </tr>\n",
       "    <tr>\n",
       "      <th>min</th>\n",
       "      <td>-8.760004</td>\n",
       "      <td>-7.084020</td>\n",
       "      <td>-11.970335</td>\n",
       "      <td>0.000000</td>\n",
       "    </tr>\n",
       "    <tr>\n",
       "      <th>25%</th>\n",
       "      <td>-1.162288</td>\n",
       "      <td>-1.174820</td>\n",
       "      <td>0.130359</td>\n",
       "      <td>59.450441</td>\n",
       "    </tr>\n",
       "    <tr>\n",
       "      <th>50%</th>\n",
       "      <td>0.009424</td>\n",
       "      <td>-0.009482</td>\n",
       "      <td>2.484236</td>\n",
       "      <td>94.925613</td>\n",
       "    </tr>\n",
       "    <tr>\n",
       "      <th>75%</th>\n",
       "      <td>1.158535</td>\n",
       "      <td>1.163678</td>\n",
       "      <td>4.858794</td>\n",
       "      <td>130.595027</td>\n",
       "    </tr>\n",
       "    <tr>\n",
       "      <th>max</th>\n",
       "      <td>7.238262</td>\n",
       "      <td>7.844801</td>\n",
       "      <td>16.739402</td>\n",
       "      <td>190.029838</td>\n",
       "    </tr>\n",
       "  </tbody>\n",
       "</table>\n",
       "</div>"
      ],
      "text/plain": [
       "                  f0             f1             f2        product\n",
       "count  100000.000000  100000.000000  100000.000000  100000.000000\n",
       "mean        0.002023      -0.002081       2.495128      95.000000\n",
       "std         1.732045       1.730417       3.473445      44.749921\n",
       "min        -8.760004      -7.084020     -11.970335       0.000000\n",
       "25%        -1.162288      -1.174820       0.130359      59.450441\n",
       "50%         0.009424      -0.009482       2.484236      94.925613\n",
       "75%         1.158535       1.163678       4.858794     130.595027\n",
       "max         7.238262       7.844801      16.739402     190.029838"
      ]
     },
     "metadata": {},
     "output_type": "display_data"
    },
    {
     "name": "stdout",
     "output_type": "stream",
     "text": [
      "Dataframe:\n"
     ]
    },
    {
     "data": {
      "text/html": [
       "<div>\n",
       "<style scoped>\n",
       "    .dataframe tbody tr th:only-of-type {\n",
       "        vertical-align: middle;\n",
       "    }\n",
       "\n",
       "    .dataframe tbody tr th {\n",
       "        vertical-align: top;\n",
       "    }\n",
       "\n",
       "    .dataframe thead th {\n",
       "        text-align: right;\n",
       "    }\n",
       "</style>\n",
       "<table border=\"1\" class=\"dataframe\">\n",
       "  <thead>\n",
       "    <tr style=\"text-align: right;\">\n",
       "      <th></th>\n",
       "      <th>id</th>\n",
       "      <th>f0</th>\n",
       "      <th>f1</th>\n",
       "      <th>f2</th>\n",
       "      <th>product</th>\n",
       "    </tr>\n",
       "  </thead>\n",
       "  <tbody>\n",
       "    <tr>\n",
       "      <th>0</th>\n",
       "      <td>fwXo0</td>\n",
       "      <td>-1.146987</td>\n",
       "      <td>0.963328</td>\n",
       "      <td>-0.828965</td>\n",
       "      <td>27.758673</td>\n",
       "    </tr>\n",
       "    <tr>\n",
       "      <th>1</th>\n",
       "      <td>WJtFt</td>\n",
       "      <td>0.262778</td>\n",
       "      <td>0.269839</td>\n",
       "      <td>-2.530187</td>\n",
       "      <td>56.069697</td>\n",
       "    </tr>\n",
       "    <tr>\n",
       "      <th>2</th>\n",
       "      <td>ovLUW</td>\n",
       "      <td>0.194587</td>\n",
       "      <td>0.289035</td>\n",
       "      <td>-5.586433</td>\n",
       "      <td>62.871910</td>\n",
       "    </tr>\n",
       "    <tr>\n",
       "      <th>3</th>\n",
       "      <td>q6cA6</td>\n",
       "      <td>2.236060</td>\n",
       "      <td>-0.553760</td>\n",
       "      <td>0.930038</td>\n",
       "      <td>114.572842</td>\n",
       "    </tr>\n",
       "    <tr>\n",
       "      <th>4</th>\n",
       "      <td>WPMUX</td>\n",
       "      <td>-0.515993</td>\n",
       "      <td>1.716266</td>\n",
       "      <td>5.899011</td>\n",
       "      <td>149.600746</td>\n",
       "    </tr>\n",
       "  </tbody>\n",
       "</table>\n",
       "</div>"
      ],
      "text/plain": [
       "      id        f0        f1        f2     product\n",
       "0  fwXo0 -1.146987  0.963328 -0.828965   27.758673\n",
       "1  WJtFt  0.262778  0.269839 -2.530187   56.069697\n",
       "2  ovLUW  0.194587  0.289035 -5.586433   62.871910\n",
       "3  q6cA6  2.236060 -0.553760  0.930038  114.572842\n",
       "4  WPMUX -0.515993  1.716266  5.899011  149.600746"
      ]
     },
     "metadata": {},
     "output_type": "display_data"
    },
    {
     "name": "stdout",
     "output_type": "stream",
     "text": [
      "Info:\n",
      "<class 'pandas.core.frame.DataFrame'>\n",
      "RangeIndex: 100000 entries, 0 to 99999\n",
      "Data columns (total 5 columns):\n",
      " #   Column   Non-Null Count   Dtype  \n",
      "---  ------   --------------   -----  \n",
      " 0   id       100000 non-null  object \n",
      " 1   f0       100000 non-null  float64\n",
      " 2   f1       100000 non-null  float64\n",
      " 3   f2       100000 non-null  float64\n",
      " 4   product  100000 non-null  float64\n",
      "dtypes: float64(4), object(1)\n",
      "memory usage: 3.8+ MB\n",
      "\n",
      "Duplicates:\n",
      "0\n",
      "\n",
      "Region 2 graphics:\n"
     ]
    },
    {
     "data": {
      "image/png": "[encoded data removed]",
      "text/plain": [
       "<Figure size 1500x800 with 4 Axes>"
      ]
     },
     "metadata": {},
     "output_type": "display_data"
    }
   ],
   "source": [
    "#Aplicación de la función en la región 2\n",
    "view_the_data(2)"
   ]
  },
  {
   "cell_type": "markdown",
   "metadata": {},
   "source": [
    "**Descripción de los datos**\n",
    "- `id` — identificador único de pozo de petróleo\n",
    "- `f0`, `f1`, `f2` — tres características significativas de los puntos.\n",
    "- `product` — volumen de reservas en el pozo de petróleo (miles de barriles)."
   ]
  },
  {
   "cell_type": "markdown",
   "metadata": {},
   "source": [
    "**Hallazgos de la región 2:**\n",
    "- No hay duplicados ni valores ausentes.\n",
    "- En los histogramas, las columnas `f0`, `f1` y `f2` tienen una distribución normal. Solamente la columna de `product` tiene una distribución de multiples picos."
   ]
  },
  {
   "cell_type": "markdown",
   "metadata": {},
   "source": [
    "Antes de comenzar con el modelado de los datos, la columna `id` no esta en valores numéricos, por ello lo ideal seria codificar dicha columna, sin embargo, como no aporta nada como característica para influir en la cantidad de producto, se eliminara."
   ]
  },
  {
   "cell_type": "code",
   "execution_count": 6,
   "metadata": {},
   "outputs": [
    {
     "data": {
      "text/plain": [
       "array(['txEyH', '2acmU', '409Wp', ..., '3rnvd', '7kl59', '1CWhH'],\n",
       "      dtype=object)"
      ]
     },
     "execution_count": 6,
     "metadata": {},
     "output_type": "execute_result"
    }
   ],
   "source": [
    "#Visualizar columna id\n",
    "data[0]['id'].unique()"
   ]
  },
  {
   "cell_type": "markdown",
   "metadata": {},
   "source": [
    "## <a id='toc1_3_'></a>[**Preprocesamiento**](#toc0_)"
   ]
  },
  {
   "cell_type": "code",
   "execution_count": 7,
   "metadata": {},
   "outputs": [],
   "source": [
    "def drop_column(region_number):\n",
    "    \n",
    "    '''\n",
    "    La función se encargara de eliminar la columna id de cada región\n",
    "    '''\n",
    "    \n",
    "    data[region_number].drop(['id'], axis= 1, inplace = True)"
   ]
  },
  {
   "cell_type": "code",
   "execution_count": 8,
   "metadata": {},
   "outputs": [],
   "source": [
    "#Eliminar columnas con la función \n",
    "for i in range(0,3):\n",
    "    drop_column(i)"
   ]
  },
  {
   "cell_type": "code",
   "execution_count": 9,
   "metadata": {},
   "outputs": [
    {
     "data": {
      "text/html": [
       "<div>\n",
       "<style scoped>\n",
       "    .dataframe tbody tr th:only-of-type {\n",
       "        vertical-align: middle;\n",
       "    }\n",
       "\n",
       "    .dataframe tbody tr th {\n",
       "        vertical-align: top;\n",
       "    }\n",
       "\n",
       "    .dataframe thead th {\n",
       "        text-align: right;\n",
       "    }\n",
       "</style>\n",
       "<table border=\"1\" class=\"dataframe\">\n",
       "  <thead>\n",
       "    <tr style=\"text-align: right;\">\n",
       "      <th></th>\n",
       "      <th>f0</th>\n",
       "      <th>f1</th>\n",
       "      <th>f2</th>\n",
       "      <th>product</th>\n",
       "    </tr>\n",
       "  </thead>\n",
       "  <tbody>\n",
       "    <tr>\n",
       "      <th>0</th>\n",
       "      <td>0.705745</td>\n",
       "      <td>-0.497823</td>\n",
       "      <td>1.221170</td>\n",
       "      <td>105.280062</td>\n",
       "    </tr>\n",
       "    <tr>\n",
       "      <th>1</th>\n",
       "      <td>1.334711</td>\n",
       "      <td>-0.340164</td>\n",
       "      <td>4.365080</td>\n",
       "      <td>73.037750</td>\n",
       "    </tr>\n",
       "    <tr>\n",
       "      <th>2</th>\n",
       "      <td>1.022732</td>\n",
       "      <td>0.151990</td>\n",
       "      <td>1.419926</td>\n",
       "      <td>85.265647</td>\n",
       "    </tr>\n",
       "    <tr>\n",
       "      <th>3</th>\n",
       "      <td>-0.032172</td>\n",
       "      <td>0.139033</td>\n",
       "      <td>2.978566</td>\n",
       "      <td>168.620776</td>\n",
       "    </tr>\n",
       "    <tr>\n",
       "      <th>4</th>\n",
       "      <td>1.988431</td>\n",
       "      <td>0.155413</td>\n",
       "      <td>4.751769</td>\n",
       "      <td>154.036647</td>\n",
       "    </tr>\n",
       "  </tbody>\n",
       "</table>\n",
       "</div>"
      ],
      "text/plain": [
       "         f0        f1        f2     product\n",
       "0  0.705745 -0.497823  1.221170  105.280062\n",
       "1  1.334711 -0.340164  4.365080   73.037750\n",
       "2  1.022732  0.151990  1.419926   85.265647\n",
       "3 -0.032172  0.139033  2.978566  168.620776\n",
       "4  1.988431  0.155413  4.751769  154.036647"
      ]
     },
     "execution_count": 9,
     "metadata": {},
     "output_type": "execute_result"
    }
   ],
   "source": [
    "data[0].head()"
   ]
  },
  {
   "cell_type": "markdown",
   "metadata": {},
   "source": [
    "## <a id='toc1_4_'></a>[**Modelado con Regresión Lineal**](#toc0_)"
   ]
  },
  {
   "cell_type": "code",
   "execution_count": 10,
   "metadata": {},
   "outputs": [],
   "source": [
    "#Asignar un diccionario para cada variable\n",
    "x = dict()\n",
    "y = dict()\n",
    "x_train = dict()\n",
    "y_train = dict()\n",
    "x_valid = dict()\n",
    "y_valid = dict()\n",
    "model = dict()\n",
    "predict_v = dict()\n",
    "RMSE = dict()"
   ]
  },
  {
   "cell_type": "code",
   "execution_count": 11,
   "metadata": {},
   "outputs": [],
   "source": [
    "def modeling(region_number):\n",
    "    \n",
    "    '''\n",
    "    La función se encargara por región de:\n",
    "    - Separar la data en 75% para el entrenamiento y 25% para validación\n",
    "    - Hacer un escaldado estándar en la data de entrenamiento\n",
    "    - Extraer el modelo de regresión lineal, entrenar, hacer las predicciones y calcular el RMSE\n",
    "    '''\n",
    "    \n",
    "    x[region_number] = data[region_number].drop(columns = ['product'])\n",
    "    y[region_number] = data[region_number]['product']\n",
    "    x_train[region_number], x_valid[region_number], y_train[region_number], y_valid[region_number] = train_test_split(x[region_number], y[region_number], random_state= 42, test_size= 0.25)\n",
    "    \n",
    "    scaler = StandardScaler()\n",
    "    scaler.fit(x_train[region_number])\n",
    "    x_train[region_number] = pd.DataFrame(scaler.transform(x_train[region_number]), index = x_train[region_number].index, columns = x_train[region_number].columns)\n",
    "    x_valid[region_number] = pd.DataFrame(scaler.transform(x_valid[region_number]), index = x_valid[region_number].index, columns = x_valid[region_number].columns)\n",
    "    \n",
    "    model[region_number] = LinearRegression()\n",
    "    model[region_number].fit(x_train[region_number], y_train[region_number])\n",
    "    predict_v[region_number] = model[region_number].predict(x_valid[region_number])\n",
    "    RMSE[region_number] = mean_squared_error(y_valid[region_number], predict_v[region_number])** 0.5\n",
    "    \n",
    "    print('Región', region_number)\n",
    "    print('Promedio de stock de producto por pozo en las predicciones {} = {:.2f}'.format(region_number, predict_v[region_number].mean()))\n",
    "    print('RMSE de la región {} = {:.2f}\\n'.format(region_number, RMSE[region_number]))"
   ]
  },
  {
   "cell_type": "code",
   "execution_count": 12,
   "metadata": {},
   "outputs": [
    {
     "name": "stdout",
     "output_type": "stream",
     "text": [
      "Región 0\n",
      "Promedio de stock de producto por pozo en las predicciones 0 = 92.40\n",
      "RMSE de la región 0 = 37.76\n",
      "\n",
      "Región 1\n",
      "Promedio de stock de producto por pozo en las predicciones 1 = 68.71\n",
      "RMSE de la región 1 = 0.89\n",
      "\n",
      "Región 2\n",
      "Promedio de stock de producto por pozo en las predicciones 2 = 94.77\n",
      "RMSE de la región 2 = 40.15\n",
      "\n"
     ]
    }
   ],
   "source": [
    "#Aplicar la función\n",
    "modeling(0)\n",
    "modeling(1)\n",
    "modeling(2)"
   ]
  },
  {
   "cell_type": "code",
   "execution_count": 13,
   "metadata": {},
   "outputs": [
    {
     "data": {
      "text/html": [
       "<div>\n",
       "<style scoped>\n",
       "    .dataframe tbody tr th:only-of-type {\n",
       "        vertical-align: middle;\n",
       "    }\n",
       "\n",
       "    .dataframe tbody tr th {\n",
       "        vertical-align: top;\n",
       "    }\n",
       "\n",
       "    .dataframe thead th {\n",
       "        text-align: right;\n",
       "    }\n",
       "</style>\n",
       "<table border=\"1\" class=\"dataframe\">\n",
       "  <thead>\n",
       "    <tr style=\"text-align: right;\">\n",
       "      <th></th>\n",
       "      <th>Regions</th>\n",
       "      <th>mean_predictions</th>\n",
       "      <th>RMSE</th>\n",
       "    </tr>\n",
       "  </thead>\n",
       "  <tbody>\n",
       "    <tr>\n",
       "      <th>0</th>\n",
       "      <td>2</td>\n",
       "      <td>94.771024</td>\n",
       "      <td>40.145872</td>\n",
       "    </tr>\n",
       "    <tr>\n",
       "      <th>1</th>\n",
       "      <td>0</td>\n",
       "      <td>92.398800</td>\n",
       "      <td>37.756600</td>\n",
       "    </tr>\n",
       "    <tr>\n",
       "      <th>2</th>\n",
       "      <td>1</td>\n",
       "      <td>68.712878</td>\n",
       "      <td>0.890280</td>\n",
       "    </tr>\n",
       "  </tbody>\n",
       "</table>\n",
       "</div>"
      ],
      "text/plain": [
       "   Regions  mean_predictions       RMSE\n",
       "0        2         94.771024  40.145872\n",
       "1        0         92.398800  37.756600\n",
       "2        1         68.712878   0.890280"
      ]
     },
     "execution_count": 13,
     "metadata": {},
     "output_type": "execute_result"
    }
   ],
   "source": [
    "#Dataframe con los datos obtenidos\n",
    "df_predict = pd.DataFrame({\n",
    "    'Regions' : [0,1,2],\n",
    "    'mean_predictions' : [predict_v[0].mean(), predict_v[1].mean(), predict_v[2].mean()],\n",
    "    'RMSE' : [RMSE[0], RMSE[1], RMSE[2]]\n",
    "})\n",
    "\n",
    "df_predict.sort_values('mean_predictions', ascending = False, inplace = True)\n",
    "df_predict.reset_index(drop = True, inplace = True)\n",
    "df_predict"
   ]
  },
  {
   "cell_type": "markdown",
   "metadata": {},
   "source": [
    "Teniendo en cuenta los resultados obtenidos en las medias y las diferencias entre los valores predichos y los reales por cada región, la región N°1 tiene menos volumen es sus reservas, pero son mas consistentes en relación con las regiones N° 0 y 2."
   ]
  },
  {
   "cell_type": "markdown",
   "metadata": {},
   "source": [
    "## <a id='toc1_5_'></a>[**Volumen de reservas**](#toc0_)"
   ]
  },
  {
   "cell_type": "markdown",
   "metadata": {},
   "source": [
    "Siguiendo las condiciones indicadas el comienzo del proyecto, se tiene lo siguiente:"
   ]
  },
  {
   "cell_type": "code",
   "execution_count": 14,
   "metadata": {},
   "outputs": [],
   "source": [
    "budget = 100_000_000 #Presupuesto para abrir los pozos\n",
    "barrel = 4500 #Costo de una unidad de producto\n",
    "max_points = 500 #Cantidad de pozos estudiados\n",
    "points = 200 #Cantidad de pozos que se abrirán"
   ]
  },
  {
   "cell_type": "code",
   "execution_count": 15,
   "metadata": {},
   "outputs": [
    {
     "name": "stdout",
     "output_type": "stream",
     "text": [
      "El volumen necesario por pozo para no generar perdidas debe ser en promedio: 111 de producto.\n"
     ]
    }
   ],
   "source": [
    "#Calculo de volumen por pozo necesario para evitar perdidas\n",
    "volume = budget / barrel\n",
    "max_volume = int(volume / points)\n",
    "print('El volumen necesario por pozo para no generar perdidas debe ser en promedio:', max_volume, 'de producto.')"
   ]
  },
  {
   "cell_type": "markdown",
   "metadata": {},
   "source": [
    "## <a id='toc1_6_'></a>[**Evaluación de los pozos**](#toc0_)"
   ]
  },
  {
   "cell_type": "code",
   "execution_count": 16,
   "metadata": {},
   "outputs": [],
   "source": [
    "def well_evaluation(region_number):\n",
    "    \n",
    "    '''\n",
    "    La evaluación de los pozos de cada región se enfoca en:\n",
    "    - Calcular el volumen máximo de los 200 pozos con mayor cantidad de producto\n",
    "    - Estimar una ganancia general de la región\n",
    "    - Estimar una ganancia media por pozo\n",
    "    '''\n",
    "    \n",
    "    best_predictions = pd.Series(predict_v[region_number]).sort_values(ascending = False).reset_index(drop = True)\n",
    "    best_predictions = best_predictions.loc[0:199]\n",
    "    max_volume = round(best_predictions.sum(),2)\n",
    "    profits = round((max_volume * barrel) - budget, 2)\n",
    "    mean_profits = round(profits / points, 2)\n",
    "    mean_volume = round(best_predictions.mean(), 2)\n",
    "    \n",
    "    print('Región', region_number,':')\n",
    "    print('Sumatorio del volumen de los 200 pozos con mayor cantidad:', max_volume)\n",
    "    print('Estimación de ganancia en la región:', profits)\n",
    "    print('Ganancia media por pozo:', mean_profits)\n",
    "    print('Volumen promedio por pozo:', mean_volume)"
   ]
  },
  {
   "cell_type": "code",
   "execution_count": 17,
   "metadata": {},
   "outputs": [
    {
     "name": "stdout",
     "output_type": "stream",
     "text": [
      "Región 0 :\n",
      "Sumatorio del volumen de los 200 pozos con mayor cantidad: 30881.46\n",
      "Estimación de ganancia en la región: 38966570.0\n",
      "Ganancia media por pozo: 194832.85\n",
      "Volumen promedio por pozo: 154.41\n",
      "\n",
      "Región 1 :\n",
      "Sumatorio del volumen de los 200 pozos con mayor cantidad: 27748.75\n",
      "Estimación de ganancia en la región: 24869375.0\n",
      "Ganancia media por pozo: 124346.88\n",
      "Volumen promedio por pozo: 138.74\n",
      "\n",
      "Región 2 :\n",
      "Sumatorio del volumen de los 200 pozos con mayor cantidad: 29728.85\n",
      "Estimación de ganancia en la región: 33779825.0\n",
      "Ganancia media por pozo: 168899.12\n",
      "Volumen promedio por pozo: 148.64\n",
      "\n"
     ]
    }
   ],
   "source": [
    "for i in range(0, 3):\n",
    "    well_evaluation(i)\n",
    "    print()"
   ]
  },
  {
   "cell_type": "markdown",
   "metadata": {},
   "source": [
    "## <a id='toc1_7_'></a>[**Calculo de ganancias**](#toc0_)"
   ]
  },
  {
   "cell_type": "code",
   "execution_count": 18,
   "metadata": {},
   "outputs": [],
   "source": [
    "def revenue(y,predictions,count):\n",
    "    \n",
    "    '''\n",
    "    La función utilizara los datos indicados en las condiciones,\n",
    "    junto con las predicciones y los datos objetivos para realizar el calculo\n",
    "    '''\n",
    "    \n",
    "    predict_sorted = predictions.sort_values(ascending = False)\n",
    "    selected = y[predict_sorted.index][:count]\n",
    "    return (selected.sum() * barrel) - budget\n"
   ]
  },
  {
   "cell_type": "markdown",
   "metadata": {},
   "source": [
    "Pero antes de aplicarla es necesario utilizar la técnica del bootstrapping para estimar la distribución estadística y construir intervalos de confianza del 95%."
   ]
  },
  {
   "cell_type": "markdown",
   "metadata": {},
   "source": [
    "### <a id='toc1_7_1_'></a>[**Bootstrapping**](#toc0_)"
   ]
  },
  {
   "cell_type": "code",
   "execution_count": 19,
   "metadata": {},
   "outputs": [],
   "source": [
    "#Diccionarios de los resultados de la función\n",
    "mean = dict()\n",
    "confidence_interval_max = dict()\n",
    "confidence_interval_min = dict()\n",
    "probability_of_loss = dict()\n",
    "\n",
    "def bootstrapping(region_number):\n",
    "  \n",
    "  '''\n",
    "  El bootstrapping se aplica con los datos predichos por el modelo y se seleccionaran 500 valores aleatorios en diferentes muestras.\n",
    "  Seguidamente, se aplica la función para calcular las ganancias de los 200 puntos con mayor cantidad de producto.\n",
    "  Y finalmente se calcula:\n",
    "  - La ganancia media\n",
    "  - Los intervalos de confianza al 95%\n",
    "  - La probabilidad y porcentaje de perdida\n",
    "  '''\n",
    "\n",
    "  predictions = pd.Series(predict_v[region_number], index = x_valid[region_number].index)\n",
    "  \n",
    "  loss = 0\n",
    "  values = []\n",
    "  state = np.random.RandomState(42)\n",
    "  \n",
    "  for i in range(1000):\n",
    "    subsample_v = y_valid[region_number].sample(n = max_points, replace = True, random_state = state )\n",
    "    subsample_p = pd.Series(predictions[subsample_v.index])\n",
    "  \n",
    "    profit = revenue(subsample_v, subsample_p, points)\n",
    "    \n",
    "    values.append(profit)\n",
    "    \n",
    "    mean[region_number] = np.mean(values)\n",
    "    confidence_interval_max[region_number] = np.quantile(values, 0.025)\n",
    "    confidence_interval_min[region_number] = np.quantile(values, 0.975)\n",
    "    if profit < 0:\n",
    "      loss += 1\n",
    "  probability_of_loss[region_number] = (loss /max_points)\n",
    "  \n",
    "  return values"
   ]
  },
  {
   "cell_type": "code",
   "execution_count": 20,
   "metadata": {},
   "outputs": [],
   "source": [
    "def conclusions(region_number):\n",
    "    \n",
    "    '''\n",
    "    La función cumplirá el objetivo de:\n",
    "    - Graficar los histogramas de los pozos seleccionados\n",
    "    - Imprimir los resultados por región de los cálculos realizados en la función de bootstrapping\n",
    "    '''\n",
    "    \n",
    "    fig = plt.figure(figsize=(10, 4))\n",
    "    ax = sns.histplot(bootstrapping(region_number),\n",
    "                      bins = 40,\n",
    "                      ax = fig.add_subplot(),\n",
    "            )\n",
    "    plt.title(f'Distribution of profit in the region {region_number}', fontweight = 'bold')\n",
    "    plt.ylabel('Count')\n",
    "    plt.show()\n",
    "    print('Ganancia media de {:.2f} millones.'.format(mean[region_number]))\n",
    "    print('Intervalo de confianza del 95% entre: {:.2f} - {:.2f} millones.'.format(confidence_interval_max[region_number], confidence_interval_min[region_number]))\n",
    "    print('Y con la probabilidad de perdida de {:.2f}, representando un porcentaje de {:.2%}.'.format(probability_of_loss[region_number], probability_of_loss[region_number]))"
   ]
  },
  {
   "cell_type": "code",
   "execution_count": 21,
   "metadata": {},
   "outputs": [
    {
     "data": {
      "image/png": "[encoded data removed]",
      "text/plain": [
       "<Figure size 1000x400 with 1 Axes>"
      ]
     },
     "metadata": {},
     "output_type": "display_data"
    },
    {
     "name": "stdout",
     "output_type": "stream",
     "text": [
      "Ganancia media de 4278475.60 millones.\n",
      "Intervalo de confianza del 95% entre: -972498.30 - 9542151.93 millones.\n",
      "Y con la probabilidad de perdida de 0.11, representando un porcentaje de 11.00%.\n"
     ]
    },
    {
     "data": {
      "image/png": "[encoded data removed]",
      "text/plain": [
       "<Figure size 1000x400 with 1 Axes>"
      ]
     },
     "metadata": {},
     "output_type": "display_data"
    },
    {
     "name": "stdout",
     "output_type": "stream",
     "text": [
      "Ganancia media de 5113627.76 millones.\n",
      "Intervalo de confianza del 95% entre: 988706.50 - 9407205.12 millones.\n",
      "Y con la probabilidad de perdida de 0.02, representando un porcentaje de 1.80%.\n"
     ]
    },
    {
     "data": {
      "image/png": "[encoded data removed]",
      "text/plain": [
       "<Figure size 1000x400 with 1 Axes>"
      ]
     },
     "metadata": {},
     "output_type": "display_data"
    },
    {
     "name": "stdout",
     "output_type": "stream",
     "text": [
      "Ganancia media de 4025756.08 millones.\n",
      "Intervalo de confianza del 95% entre: -1371622.25 - 9298875.28 millones.\n",
      "Y con la probabilidad de perdida de 0.15, representando un porcentaje de 14.80%.\n"
     ]
    }
   ],
   "source": [
    "#Aplicar el bootstrapping con las gráficas\n",
    "for i in range(0,3):\n",
    "    conclusions(i)"
   ]
  },
  {
   "cell_type": "markdown",
   "metadata": {},
   "source": [
    "## <a id='toc1_8_'></a>[**Conclusiones:**](#toc0_)"
   ]
  },
  {
   "cell_type": "markdown",
   "metadata": {},
   "source": [
    "1. **Visualización de datos:** Se revisaron las bases de datos y se encontraron sin duplicados ni valores ausentes, pero sí con variación en la distribución de los datos, en los histogramas se perciben distribuciones normales, bi modal y multimodal. Y con la columna `id` que solo está presente para identificar la región."
   ]
  },
  {
   "cell_type": "markdown",
   "metadata": {},
   "source": [
    "2. **Preprocesamiento:** Aquí solo se eliminó la columna `id⁣`, puesto que para formar el modelo dicha columna siendo una string debía ser codificada, pero al no aportar nada en la cantidad de producto en cada área, se eliminó."
   ]
  },
  {
   "cell_type": "markdown",
   "metadata": {},
   "source": [
    "3. **Modelado:** Se separó en diversos pasos que fueron unificados en una función donde cumplía por región lo siguiente:\n",
    "- Separar la data en un 75% para el entrenamiento y un 25% para la validación.\n",
    "- Aplicar un escalado estándar para normalizar el valor de cada columna sobre el entrenamiento del modelo.\n",
    "- Utilizar el modelo de LinearRegression con los datos de entrenamiento y realizar las predicciones con los datos de validación.\n",
    "- Calcular la media de producto en cada pozo por región y el RMSE también por región.\n",
    "\n",
    "Ahora bien, los resultados obtenidos en la media y el RMSE fueron los siguientes:\n",
    "\n",
    "| Regions | mean_predictions | RMSE |\n",
    "|---|---|---|\n",
    "| 2 | 94.77 | 40.14 |\n",
    "| 0 | 92.39 | 37.75 |\n",
    "| 1 | 68.71 | 0.89 |\n",
    "\n",
    "La región 2 es la que aloja más productos por pozo, pero es la que tiene una mayor dispersión de la cantidad real en comparación con las predicciones, siendo ese el significado de RMSE. Por otro lado, la región 1 es la que tiene menos cantidad de producto por pozo, pero sus predicciones son las más cercanas a las cantidades reales.\n",
    "\n",
    "A partir de estos datos, tenemos una idea general de las regiones, pero no es suficiente para tomar una decisión. Por ello, es necesario hacer un cálculo de ganancias en cada región en función de la cantidad de producto para los 200 pozos que se requieren en la inversión. De esta forma, dicho cálculo indica con mayor severidad que región es viable sin generar pérdidas.\n",
    " "
   ]
  },
  {
   "cell_type": "markdown",
   "metadata": {},
   "source": [
    "4. **Calculo de ganancia:** Para el calculo de ganancia por región se aplico:\n",
    "- La técnica del Bootstrapping para realizar el calculo con diversas muestras y seleccionando los 200 pozos con mayor cantidad de producto.\n",
    "- Ya teniendo los pozos, los cálculos fueron realizados con las condiciones indicadas al comienzo del proyecto."
   ]
  },
  {
   "cell_type": "markdown",
   "metadata": {},
   "source": [
    "![imagen](../img/calculo.png)"
   ]
  },
  {
   "cell_type": "markdown",
   "metadata": {},
   "source": [
    "Los resultados de las ganancia fueron:\n",
    "\n",
    "| Región | Ganancia media | Intervalo de confianza del 95% | Probabilidad de pérdida |\n",
    "|---|---|---|---|\n",
    "| 0 | 4278475.60 millones | -972498.30 - 9542151.93 millones | 0.11, 11.00% |\n",
    "| 1 | 5113627.76 millones | 988706.50 - 9407205.12 millones | 0.02, 1.80% |\n",
    "| 2 | 4025756.08 millones | -1371622.25 - 9298875.28 millones | 0.15, 14.80% |\n"
   ]
  },
  {
   "cell_type": "markdown",
   "metadata": {},
   "source": [
    "5. **Conclusión Final:** \n",
    "\n",
    "- **Región 1:** es la región más rentable, tiene una una ganancia media de 5.113.627.76 millones de dólares. El intervalo de confianza del 95% de 988706.50 a 9407205.12 millones de dólares, lo que significa que la empresa tiene un 95% de confianza de que la ganancia real estará dentro de este rango y la probabilidad de pérdida es de 0.02, o 2%, es decir, una probabilidad bastante improbable en generar perdidas.\n",
    "\n",
    "- **Región 0:** es la segunda región más rentable, con una ganancia media de 4278475.60 millones de dólares. El intervalo de confianza del 95% es de -972498.30 a 9542151.93 millones de dólares y la probabilidad de pérdida para esta región es de 0.11, o 11%, mucho mas elevada y es un riesgo bastante llamativo al momento de plantear realizar la inversión en dicha región.\n",
    "\n",
    "- **Región 2:** seria la menos rentable, a pesar de ser la región con mayor cantidad de producto por pozo, con una ganancia media de 4.025.756.08 millones de dólares. El intervalo de confianza del 95% de -1371622.25 a 9298875.28 millones de dólares y La probabilidad de pérdida es de 0.15, o 14.8%.\n",
    "\n",
    "En general, la empresa debería considerar invertir en la región 1, puesto que como ya fue mencionado es la región más rentable. Esto significa que, aunque esta región tiene la menor cantidad de producto por pozo, generaría una ganancia media de 961.511 millones más que las otras dos regiones.\n",
    "\n",
    "Sin embargo, es importante tener en cuenta que estas son solo estimaciones. La ganancia real de un pozo de petróleo puede variar debido a una serie de factores, como el precio del petróleo, las condiciones del mercado y la eficiencia operativa."
   ]
  }
 ],
 "metadata": {
  "kernelspec": {
   "display_name": "Python 3",
   "language": "python",
   "name": "python3"
  },
  "language_info": {
   "codemirror_mode": {
    "name": "ipython",
    "version": 3
   },
   "file_extension": ".py",
   "mimetype": "text/x-python",
   "name": "python",
   "nbconvert_exporter": "python",
   "pygments_lexer": "ipython3",
   "version": "3.11.4"
  }
 },
 "nbformat": 4,
 "nbformat_minor": 2
}
